{
 "cells": [
  {
   "cell_type": "code",
   "execution_count": 1,
   "metadata": {},
   "outputs": [],
   "source": [
    "from selenium import webdriver\n",
    "import time\n",
    "import csv\n",
    "import math"
   ]
  },
  {
   "cell_type": "code",
   "execution_count": 2,
   "metadata": {},
   "outputs": [],
   "source": [
    "def get_traffic_trends():\n",
    "    print('This function iterates every 15 minutes.')\n",
    "    user_iter = input('Please enter the amount of times you would like this function to iterate: ')\n",
    "    print('')\n",
    "    it = 0\n",
    "    skip = ['1_7_x', '1_19_x', '1_30_x', '1_35_x', '4_75_x']\n",
    "    for i in range(int(float(user_iter))):\n",
    "        print('Processing iteration {0}... (get_traffic_trends)'.format(str(i+1)))\n",
    "        driver = webdriver.Firefox(executable_path='./geckodriver')\n",
    "        driver.get('http://mmdatraffic.interaksyon.com/system-view.php')\n",
    "        elems = driver.find_elements_by_css_selector('[title=\"Click for more info\"]')\n",
    "        close = driver.find_element_by_class_name('dvTrafficStatInfo-close')\n",
    "        csv_file = open('traffic_data.csv', 'a')\n",
    "        writer = csv.writer(csv_file)\n",
    "        for elem in elems:\n",
    "            if elem.get_attribute('id') in skip:\n",
    "                pass\n",
    "            elif (elem.get_attribute('href') == 'javascript: void(0)'):\n",
    "                elem.click()\n",
    "                try:\n",
    "                    a = driver.find_elements_by_class_name('area')\n",
    "                    d = driver.find_element_by_id('systemdate')\n",
    "                    dt = driver.find_elements_by_class_name('datetime')\n",
    "                    l = driver.find_elements_by_class_name('location')\n",
    "                    n = driver.find_elements_by_class_name('nb_abbrv')\n",
    "                    s = driver.find_elements_by_class_name('sb_abbrv')\n",
    "                    t = driver.find_element_by_id('servertime')\n",
    "                    try:\n",
    "                        if n[0].text[-1].isalpha():\n",
    "                            writer.writerow([0, d.text, t.text, a[0].text, l[0].text,\\\n",
    "                                             n[0].text[-1], dt[0].text[9:17], s[0].text[-1], dt[1].text[9:17]])\n",
    "                    except:\n",
    "                        writer.writerow([1, d.text, t.text, a[1].text, l[1].text,\\\n",
    "                                         n[1].text[-1], dt[2].text[9:17], s[1].text[-1], dt[3].text[9:17]])\n",
    "                        writer.writerow([1, d.text, t.text, a[2].text, l[2].text,\\\n",
    "                                         n[2].text[-1], dt[4].text[9:17], s[2].text[-1], dt[5].text[9:17]])\n",
    "                except:\n",
    "                    pass\n",
    "                close.click()\n",
    "            else:\n",
    "                break\n",
    "        driver.close()\n",
    "        csv_file.close()\n",
    "        it += 1\n",
    "        if it < int(float(user_iter)):\n",
    "            time.sleep(900)\n",
    "    print('Done! (get_traffic_trends)')"
   ]
  },
  {
   "cell_type": "code",
   "execution_count": 3,
   "metadata": {},
   "outputs": [
    {
     "name": "stdout",
     "output_type": "stream",
     "text": [
      "This function iterates every 15 minutes.\n",
      "Please enter the amount of times you would like this function to iterate: 1\n",
      "\n",
      "Processing iteration 1... (get_traffic_trends)\n",
      "Done! (get_traffic_trends)\n"
     ]
    }
   ],
   "source": [
    "get_traffic_trends()"
   ]
  },
  {
   "cell_type": "code",
   "execution_count": null,
   "metadata": {},
   "outputs": [],
   "source": []
  }
 ],
 "metadata": {
  "kernelspec": {
   "display_name": "Python 3",
   "language": "python",
   "name": "python3"
  },
  "language_info": {
   "codemirror_mode": {
    "name": "ipython",
    "version": 3
   },
   "file_extension": ".py",
   "mimetype": "text/x-python",
   "name": "python",
   "nbconvert_exporter": "python",
   "pygments_lexer": "ipython3",
   "version": "3.7.3"
  }
 },
 "nbformat": 4,
 "nbformat_minor": 2
}
